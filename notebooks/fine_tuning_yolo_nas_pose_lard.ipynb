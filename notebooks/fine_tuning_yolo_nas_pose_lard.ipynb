{
 "cells": [
  {
   "cell_type": "markdown",
   "metadata": {},
   "source": [
    "### **Fine-tuning YOLO-NAS-POSE on the LARD Dataset**"
   ]
  }
 ],
 "metadata": {
  "kernelspec": {
   "display_name": "yolonas",
   "language": "python",
   "name": "python3"
  },
  "language_info": {
   "name": "python",
   "version": "3.10.18"
  }
 },
 "nbformat": 4,
 "nbformat_minor": 2
}
