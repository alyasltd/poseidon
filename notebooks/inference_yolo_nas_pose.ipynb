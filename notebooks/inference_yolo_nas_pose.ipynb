{
 "cells": [
  {
   "cell_type": "markdown",
   "metadata": {},
   "source": [
    "### **Inference w/ YOLO-NAS-POSE**"
   ]
  },
  {
   "cell_type": "code",
   "execution_count": 5,
   "metadata": {},
   "outputs": [
    {
     "name": "stderr",
     "output_type": "stream",
     "text": [
      "[2025-06-18 17:09:33] WARNING - checkpoint_utils.py - :warning: The pre-trained models provided by SuperGradients may have their own licenses or terms and conditions derived from the dataset used for pre-training.\n",
      " It is your responsibility to determine whether you have permission to use the models for your use case.\n",
      " The model you have requested was pre-trained on the coco_pose dataset, published under the following terms: https://cocodataset.org/#termsofuse\n",
      "[2025-06-18 17:09:33] INFO - checkpoint_utils.py - License Notification: YOLO-NAS-POSE pre-trained weights are subjected to the specific license terms and conditions detailed in \n",
      "https://github.com/Deci-AI/super-gradients/blob/master/LICENSE.YOLONAS-POSE.md\n",
      "By downloading the pre-trained weight files you agree to comply with these terms.\n",
      "[2025-06-18 17:09:33] INFO - checkpoint_utils.py - Successfully loaded pretrained weights for architecture yolo_nas_pose_l\n",
      "[2025-06-18 17:09:33] INFO - pipelines.py - Fusing some of the model's layers. If this takes too much memory, you can deactivate it by setting `fuse_model=False`\n"
     ]
    }
   ],
   "source": [
    "import super_gradients\n",
    "\n",
    "yolo_nas = super_gradients.training.models.get(\"yolo_nas_pose_l\", pretrained_weights=\"coco_pose\").cuda()\n",
    "model_predictions  = yolo_nas.predict(\"/home/aws_install/yolo-nas-diffpnp-integration/inference_images/basket.jpg\", conf=0.5).save(\"basket_predictions.jpg\")"
   ]
  },
  {
   "cell_type": "code",
   "execution_count": 16,
   "metadata": {},
   "outputs": [
    {
     "name": "stderr",
     "output_type": "stream",
     "text": [
      "[2025-06-18 16:37:30] INFO - pipelines.py - Fusing some of the model's layers. If this takes too much memory, you can deactivate it by setting `fuse_model=False`\n"
     ]
    },
    {
     "name": "stdout",
     "output_type": "stream",
     "text": [
      "[0.8041992  0.7885742  0.73095703]\n",
      "[[ 75.31651  88.70057 203.79152 476.71143]\n",
      " [418.7158   96.26956 531.8153  478.08237]\n",
      " [178.25183  93.31901 485.22183 475.65817]]\n",
      "[[[1.28789062e+02 1.19824219e+02 8.42773438e-01]\n",
      "  [1.35000000e+02 1.13378906e+02 8.59375000e-01]\n",
      "  [1.29140625e+02 1.13906250e+02 2.93457031e-01]\n",
      "  [1.56093750e+02 1.17421875e+02 8.30566406e-01]\n",
      "  [1.37929688e+02 1.17832031e+02 3.24707031e-02]\n",
      "  [1.77656250e+02 1.56093750e+02 9.27734375e-01]\n",
      "  [1.33710938e+02 1.57968750e+02 9.28222656e-01]\n",
      "  [1.91718750e+02 1.97695312e+02 8.30078125e-01]\n",
      "  [1.00371094e+02 1.88671875e+02 7.28027344e-01]\n",
      "  [1.45664062e+02 2.24648438e+02 7.96875000e-01]\n",
      "  [8.44921875e+01 2.12695312e+02 6.92871094e-01]\n",
      "  [1.67460938e+02 2.50078125e+02 8.93554688e-01]\n",
      "  [1.40625000e+02 2.50546875e+02 8.59375000e-01]\n",
      "  [1.60078125e+02 3.35859375e+02 9.03808594e-01]\n",
      "  [1.47773438e+02 3.35625000e+02 8.23730469e-01]\n",
      "  [1.65468750e+02 4.31718750e+02 8.48144531e-01]\n",
      "  [1.58906250e+02 4.23281250e+02 8.35449219e-01]]\n",
      "\n",
      " [[5.25468750e+02 1.35703125e+02 8.00781250e-01]\n",
      "  [5.27343750e+02 1.29726562e+02 4.16748047e-01]\n",
      "  [5.20312500e+02 1.28906250e+02 8.33984375e-01]\n",
      "  [5.18906250e+02 1.32539062e+02 1.11450195e-01]\n",
      "  [4.99218750e+02 1.29609375e+02 7.63671875e-01]\n",
      "  [5.15156250e+02 1.74023438e+02 8.92089844e-01]\n",
      "  [4.71562500e+02 1.65937500e+02 9.59472656e-01]\n",
      "  [5.17500000e+02 2.32148438e+02 7.79296875e-01]\n",
      "  [4.43203125e+02 2.14570312e+02 8.61328125e-01]\n",
      "  [5.18437500e+02 2.80546875e+02 7.71972656e-01]\n",
      "  [4.28203125e+02 2.62031250e+02 7.60742188e-01]\n",
      "  [5.01093750e+02 2.66250000e+02 8.77441406e-01]\n",
      "  [4.75312500e+02 2.65078125e+02 9.10644531e-01]\n",
      "  [4.79531250e+02 3.44765625e+02 8.71582031e-01]\n",
      "  [4.87968750e+02 3.45234375e+02 8.47167969e-01]\n",
      "  [4.77656250e+02 4.27031250e+02 8.27148438e-01]\n",
      "  [4.93593750e+02 4.32656250e+02 8.01757812e-01]]\n",
      "\n",
      " [[3.27656250e+02 1.21171875e+02 8.55957031e-01]\n",
      "  [3.33750000e+02 1.14843750e+02 7.87109375e-01]\n",
      "  [3.20156250e+02 1.15078125e+02 8.16406250e-01]\n",
      "  [3.43359375e+02 1.21875000e+02 5.79589844e-01]\n",
      "  [3.10078125e+02 1.22226562e+02 5.99121094e-01]\n",
      "  [3.56015625e+02 1.69218750e+02 9.56542969e-01]\n",
      "  [2.97421875e+02 1.69804688e+02 9.68261719e-01]\n",
      "  [4.04296875e+02 1.93710938e+02 9.10644531e-01]\n",
      "  [2.46093750e+02 1.91015625e+02 8.58398438e-01]\n",
      "  [4.50468750e+02 1.70273438e+02 8.78906250e-01]\n",
      "  [1.96875000e+02 1.64179688e+02 7.05078125e-01]\n",
      "  [3.47812500e+02 2.60156250e+02 9.19433594e-01]\n",
      "  [3.07734375e+02 2.60390625e+02 9.26757812e-01]\n",
      "  [3.60937500e+02 3.45000000e+02 8.30078125e-01]\n",
      "  [2.97656250e+02 3.45468750e+02 8.20312500e-01]\n",
      "  [3.79921875e+02 4.30546875e+02 8.60351562e-01]\n",
      "  [2.81250000e+02 4.28671875e+02 8.55957031e-01]]]\n"
     ]
    }
   ],
   "source": [
    "preds = yolo_nas.predict(\"/home/aws_install/ballet.jpg\", conf=0.5)\n",
    "print(preds.prediction.scores)\n",
    "print(preds.prediction.bboxes_xyxy)\n",
    "print(preds.prediction.poses)"
   ]
  }
 ],
 "metadata": {
  "kernelspec": {
   "display_name": "yolonas",
   "language": "python",
   "name": "python3"
  },
  "language_info": {
   "codemirror_mode": {
    "name": "ipython",
    "version": 3
   },
   "file_extension": ".py",
   "mimetype": "text/x-python",
   "name": "python",
   "nbconvert_exporter": "python",
   "pygments_lexer": "ipython3",
   "version": "3.10.18"
  }
 },
 "nbformat": 4,
 "nbformat_minor": 2
}
