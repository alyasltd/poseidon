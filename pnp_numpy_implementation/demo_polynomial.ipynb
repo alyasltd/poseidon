{
 "cells": [
  {
   "cell_type": "markdown",
   "id": "c27344f2",
   "metadata": {},
   "source": [
    "Test de la résolution des équations polynomiales : "
   ]
  },
  {
   "cell_type": "code",
   "execution_count": 1,
   "id": "ff1230d0",
   "metadata": {},
   "outputs": [],
   "source": [
    "import numpy as np"
   ]
  },
  {
   "cell_type": "markdown",
   "id": "133951d7",
   "metadata": {},
   "source": [
    "Définition d'une fonction qui retourne la racine cubique d'un nombre complexe"
   ]
  },
  {
   "cell_type": "code",
   "execution_count": 2,
   "id": "6c60c0dd",
   "metadata": {},
   "outputs": [],
   "source": [
    "# Computing the cubic root of a complex number\n",
    "def sqrt_3(x) :\n",
    "  if np.real(x) >= 0 :\n",
    "    return x**(1/3)\n",
    "  else :\n",
    "    return -(-x)**(1/3)"
   ]
  },
  {
   "cell_type": "markdown",
   "id": "a03a8a79",
   "metadata": {},
   "source": [
    "Fonction de résolution des polyomes de degré 3 : à partir des coefficiants il retournes les 3 racines "
   ]
  },
  {
   "cell_type": "code",
   "execution_count": 3,
   "id": "d0aa3a0c",
   "metadata": {},
   "outputs": [],
   "source": [
    "def polynomial_root_calculation_3rd_degree(a,b,c,d):\n",
    "  # Solving a polynomial of 3rd degree  \n",
    "  # Input : the 4th coefficiants of the polynomial \n",
    "  # Output : roots of the polynomial a*x^3 + b*x^2 + c*x + d = 0  -> array : [x1,x2,x3]\n",
    "\n",
    "  # Calculation of the discriminant\n",
    "  p = (3*a*c - b**2)/(3*a**2)\n",
    "  q = (2* b**3 - 9*a*b*c + 27* a**2 *d ) / (27 * a**3)\n",
    "\n",
    "  delta = - 4 * p**3 - 27* q**2     \n",
    "\n",
    "  roots = []\n",
    "\n",
    "  j_ = np.exp((2*1j*np.pi)/3)\n",
    "\n",
    "  for k in range(3):\n",
    "\n",
    "    u_k = j_**k * sqrt_3( 0.5 * (-q + np.sqrt(-delta/27,dtype=complex)) )\n",
    "    v_k = j_**(-k) * sqrt_3( 0.5 * (-q - np.sqrt(-delta/27,dtype=complex)))\n",
    "\n",
    "    roots.append((u_k + v_k)- b/(3*a))\n",
    "\n",
    "  return np.array(roots)"
   ]
  },
  {
   "cell_type": "markdown",
   "id": "d47f99bf",
   "metadata": {},
   "source": [
    "Test de la résolution des polynômes de degré 3 : \n",
    "vérification que en re-injectant les solutions trouvées dans le polynôme, celui ci est bien nul (à 10^(-10) près)"
   ]
  },
  {
   "cell_type": "code",
   "execution_count": 4,
   "id": "619a9c10",
   "metadata": {},
   "outputs": [],
   "source": [
    "def test_polynomial_root_calculation_3rd_degree(a,b,c,d):\n",
    "  print(\"---- Begin of test_polynomial_root_calculation_3rd_degree ----\")\n",
    "\n",
    "\n",
    "  # Polynomial whose roots we are looking for : \n",
    "  print(\"f(x) = \",a,\"*x**3 + \",b,\"*x**2 + \",c,\"*x + \",d)\n",
    "\n",
    "  # Calculation of the polynomial \n",
    "  def f(x,a,b,c,d):\n",
    "    return a*x**3 + b*x**2 + c*x + d\n",
    "\n",
    "  # Computation of the roots \n",
    "  roots = polynomial_root_calculation_3rd_degree(a,b,c,d)\n",
    "  print('Roots :', roots,'\\n')\n",
    "\n",
    "  valeur_ok = True  # true if all roots values are close to zero (<10^(-10))\n",
    "\n",
    "  for r in roots :\n",
    "    # Calculation of the polynomial applied to the root \n",
    "    y = f(r,a,b,c,d)\n",
    "    print('f(r) = ',y,'\\n')\n",
    "\n",
    "    if np.linalg.norm(y) > 10**(-10) :\n",
    "      valeur_ok = False\n",
    "\n",
    "  print('Values lower in norm than 10^(-10) : ',valeur_ok, '\\n')"
   ]
  },
  {
   "cell_type": "markdown",
   "id": "ba9a836d",
   "metadata": {},
   "source": [
    "Test avec des valeurs aléatoires pour les coefficiants "
   ]
  },
  {
   "cell_type": "code",
   "execution_count": 5,
   "id": "236a73cd",
   "metadata": {},
   "outputs": [
    {
     "name": "stdout",
     "output_type": "stream",
     "text": [
      "---- Begin of test_polynomial_root_calculation_3rd_degree ----\n",
      "f(x) =  -5.6533065734757315 *x**3 +  15.321265867254048 *x**2 +  19.40424892282251 *x +  -1.8334315241531662\n",
      "Roots : [ 3.63087195+0.j -1.00923292+0.j  0.08850337+0.j] \n",
      "\n",
      "f(r) =  (3.552713678800501e-15+0j) \n",
      "\n",
      "f(r) =  (-1.0658141036401503e-14+0j) \n",
      "\n",
      "f(r) =  (-2.1760371282653068e-14+0j) \n",
      "\n",
      "Values lower in norm than 10^(-10) :  True \n",
      "\n"
     ]
    }
   ],
   "source": [
    "test_polynomial_root_calculation_3rd_degree(np.random.uniform(-20,20),np.random.uniform(-20,20),np.random.uniform(-20,20),np.random.uniform(-20,20))"
   ]
  },
  {
   "cell_type": "markdown",
   "id": "fe2f8a8d",
   "metadata": {},
   "source": [
    "Fonction de résolution des polyomes de degré 4 : à partir des coefficiants il retournes les 4 racines en s'appuyant sur la méthode de Ferrari "
   ]
  },
  {
   "cell_type": "code",
   "execution_count": 6,
   "id": "a74b9a21",
   "metadata": {},
   "outputs": [],
   "source": [
    "def polynomial_root_calculation_4th_degree_ferrari(a):\n",
    "    # Solving a polynomial of 4th degree\n",
    "\n",
    "    # Input : array 5*1 with the 5 coefficiants of the polynomial \n",
    "    # Output : roots of the polynomial a[4]*x^4 + a[3]*x^3 + a[2]*x^2 + a[1]*x + a[0]   -> array : [x1,x2,x3,x4]  (4*1)\n",
    "\n",
    "    if np.shape(a)[0] != 5 :\n",
    "      print(\"Expeted 5 coefficiants for a 4th order polynomial\")\n",
    "      return\n",
    "\n",
    "    a0 = a[0]\n",
    "    a1 = a[1]\n",
    "    a2 = a[2]\n",
    "    a3 = a[3]\n",
    "    a4 = a[4]\n",
    "\n",
    "    # Reduce the quartic equation to the form : x^4 + a*x^3 + b*x^2 + c*x + d = 0\n",
    "    a = a3/a4\n",
    "    b = a2/a4\n",
    "    c = a1/a4\n",
    "    d = a0/a4\n",
    "\n",
    "    # Computation of the coefficients of the Ferrari's Method\n",
    "    S = a/4\n",
    "    b0 = d - c*S + b* S**2 - 3* S**4\n",
    "    b1 = c - 2*b*S + 8*S**3\n",
    "    b2 = b - 6 * S**2\n",
    "\n",
    "\n",
    "    # Solve the cubic equation m^3 + b2*m^2 + (b2^2/4  - b0)*m - b1^2/8 = 0\n",
    "    x_cube = polynomial_root_calculation_3rd_degree(1,b2,(b2**2)/4-b0,(-b1**2)/8)\n",
    "\n",
    "    # Find a real and positive solution\n",
    "    alpha_0 = 0\n",
    "    for r in x_cube :\n",
    "      if np.isclose(np.imag(r),0) and np.real(r) > 0 :\n",
    "        alpha_0 = r\n",
    "\n",
    "    if alpha_0 !=0 :\n",
    "      x1 = np.sqrt(alpha_0/2) - S  + np.sqrt( -alpha_0/2 - b2/2 - b1/(2*np.sqrt(2*alpha_0)),dtype = complex)\n",
    "      x2 = np.sqrt(alpha_0/2) - S - np.sqrt( -alpha_0/2 - b2/2 - b1/(2*np.sqrt(2*alpha_0,)),dtype = complex)\n",
    "      x3 = - np.sqrt(alpha_0/2) - S + np.sqrt( -alpha_0/2 - b2/2 + b1/(2*np.sqrt(2*alpha_0)),dtype = complex)\n",
    "      x4 = - np.sqrt(alpha_0/2) - S - np.sqrt( -alpha_0/2 - b2/2 + b1/(2*np.sqrt(2*alpha_0)),dtype = complex)\n",
    "\n",
    "    else :\n",
    "      x1 = - S + np.sqrt(-b2/2 + np.sqrt((b2**2)/4 - b0),dtype = complex)\n",
    "      x2 = - S - np.sqrt(-b2/2 + np.sqrt((b2**2)/4 - b0),dtype = complex)\n",
    "      x3 = - S + np.sqrt(-b2/2 - np.sqrt((b2**2)/4 - b0),dtype = complex)\n",
    "      x4 = - S - np.sqrt(-b2/2 - np.sqrt((b2**2)/4 - b0),dtype = complex)\n",
    "    return np.array([x1,x2,x3,x4])"
   ]
  },
  {
   "cell_type": "markdown",
   "id": "276471e7",
   "metadata": {},
   "source": [
    "Test de la résolution des polynômes de degré 4 : \n",
    "vérification que en re-injectant les solutions trouvées dans le polynôme, celui ci est bien nul (à 10^(-10) près)"
   ]
  },
  {
   "cell_type": "code",
   "execution_count": 7,
   "id": "70bfc4fd",
   "metadata": {},
   "outputs": [],
   "source": [
    "def test_polynomial_root_calculation_4th_degree_ferrari(a0,a1,a2,a3,a4,):\n",
    "  print(\"---- Begin of test_polynomial_root_calculation_4th_degree_ferrari ----\")\n",
    "\n",
    "  # Polynomial whose roots we are looking for : \n",
    "  print(\"f(x) = \",a4,\"*x**4 + \",a3,\"*x**3 + \",a2,\"*x**2 + \",a1,\"*x + \",a0)\n",
    "\n",
    "  # Calculation of the polynomial \n",
    "  def f(x,a0,a1,a2,a3,a4) :\n",
    "    return a4*x**4+a3*x**3 + a2*x**2 + a1*x + a0\n",
    "\n",
    "  # Computation of the roots\n",
    "  roots = polynomial_root_calculation_4th_degree_ferrari(np.array([a0,a1,a2,a3,a4]))\n",
    "  print('Roots :', roots,'\\n')\n",
    "\n",
    "  valeur_ok = True # true if all roots values are close to zero (<10^(-10))\n",
    "\n",
    "  for r in roots :\n",
    "    # Calculation of the polynomial applied to the root \n",
    "    y = f(r,a0,a1,a2,a3,a4)\n",
    "    print('f(r) = ',y,'\\n')\n",
    "\n",
    "    if np.linalg.norm(y) > 10**(-10) :\n",
    "      valeur_ok = False\n",
    "\n",
    "  print('Values lower in norm than 10^(-10) : ',valeur_ok, '\\n')"
   ]
  },
  {
   "cell_type": "markdown",
   "id": "e45bdcc0",
   "metadata": {},
   "source": [
    "Test avec des valeurs aléatoires pour les coefficiants "
   ]
  },
  {
   "cell_type": "code",
   "execution_count": 8,
   "id": "674b29cc",
   "metadata": {},
   "outputs": [
    {
     "name": "stdout",
     "output_type": "stream",
     "text": [
      "---- Begin of test_polynomial_root_calculation_4th_degree_ferrari ----\n",
      "f(x) =  -3.4162540503491066 *x**4 +  -5.06510017737169 *x**3 +  8.324480981215071 *x**2 +  11.777693140771287 *x +  10.257273015833608\n",
      "Roots : [ 1.71277701+0.j         -2.16780962+0.j         -0.51380739+0.73800439j\n",
      " -0.51380739-0.73800439j] \n",
      "\n",
      "f(r) =  (-1.1723955140041653e-13+0j) \n",
      "\n",
      "f(r) =  (-1.2079226507921703e-13+0j) \n",
      "\n",
      "f(r) =  (-1.1546319456101628e-13+3.552713678800501e-15j) \n",
      "\n",
      "f(r) =  (-1.1546319456101628e-13-3.552713678800501e-15j) \n",
      "\n",
      "Values lower in norm than 10^(-10) :  True \n",
      "\n"
     ]
    }
   ],
   "source": [
    "test_polynomial_root_calculation_4th_degree_ferrari(np.random.uniform(-20,20),np.random.uniform(-20,20),np.random.uniform(-20,20),np.random.uniform(-20,20),np.random.uniform(-20,20))"
   ]
  }
 ],
 "metadata": {
  "kernelspec": {
   "display_name": "Python 3",
   "language": "python",
   "name": "python3"
  },
  "language_info": {
   "codemirror_mode": {
    "name": "ipython",
    "version": 3
   },
   "file_extension": ".py",
   "mimetype": "text/x-python",
   "name": "python",
   "nbconvert_exporter": "python",
   "pygments_lexer": "ipython3",
   "version": "3.11.9"
  }
 },
 "nbformat": 4,
 "nbformat_minor": 5
}
