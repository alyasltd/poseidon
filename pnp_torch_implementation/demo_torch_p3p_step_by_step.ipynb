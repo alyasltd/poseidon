{
 "cells": [
  {
   "cell_type": "code",
   "execution_count": 52,
   "metadata": {},
   "outputs": [],
   "source": [
    "import numpy as np \n",
    "import torch"
   ]
  },
  {
   "cell_type": "markdown",
   "metadata": {},
   "source": [
    "At first we have : \n",
    "- first camera parameters -> A (focal, etc) \n",
    "- rotation  -> R \n",
    "- position - C ou T ?  matrix\n",
    "- 3D points position ->  P1 P2 P3 "
   ]
  },
  {
   "cell_type": "code",
   "execution_count": 53,
   "metadata": {},
   "outputs": [
    {
     "name": "stdout",
     "output_type": "stream",
     "text": [
      "A = \n",
      " tensor([[800.,   0., 320.],\n",
      "        [  0., 800., 240.],\n",
      "        [  0.,   0.,   1.]], dtype=torch.float64)\n",
      "torch.Size([3, 3])\n",
      "R = \n",
      " tensor([[ 1.,  0.,  0.],\n",
      "        [ 0., -1.,  0.],\n",
      "        [ 0.,  0., -1.]], dtype=torch.float64)\n",
      "torch.Size([3, 3])\n",
      "C = \n",
      " tensor([[0., 0., 6.]], dtype=torch.float64)\n",
      "torch.Size([1, 3])\n"
     ]
    }
   ],
   "source": [
    "# This script defines the camera parameters, rotation matrix, and translation matrix.\n",
    "def camera() : \n",
    "  # Definition of the camera parameters\n",
    "  # focal length\n",
    "  fx = 800\n",
    "  fy = 800\n",
    "  # center\n",
    "  cx = 320 \n",
    "  cy = 240\n",
    "\n",
    "  A = torch.tensor([[fx, 0, cx], [0, fy, cy], [0, 0, 1]], dtype=torch.float64) # intraseca matrix of the camera (3*3)\n",
    "  #A = torch.from_numpy(A)  # Convert to a PyTorch tensor\n",
    "  print(\"A = \\n\", A)\n",
    "  print(A.shape)  # (3*3)\n",
    "  return A\n",
    "\n",
    "A = camera() \n",
    "\n",
    "\n",
    "def rotation_matrix() : \n",
    "  # Definition of the rotation matrix of the camera \n",
    "  R = torch.tensor([[1, 0, 0],[0, -1, 0], [0, 0, -1]], dtype=torch.float64)  # (3*3)\n",
    "  #R = torch.from_numpy(R)  # Convert to a PyTorch tensor\n",
    "  print(\"R = \\n\",R)\n",
    "  print(R.shape)  # (3*3)\n",
    "  return R\n",
    "\n",
    "def camera_position() : \n",
    "  # Definition of the translation matrix of the camera (the position)\n",
    "  C = torch.tensor([[0,0,6]], dtype=torch.float64)    # T = [tx,ty,tz]  (1*3)\n",
    "\n",
    "  print(\"C = \\n\",C)\n",
    "  print(C.shape)  # (1*3)\n",
    "  return C\n",
    "\n",
    "R = rotation_matrix()\n",
    "C = camera_position()"
   ]
  },
  {
   "cell_type": "code",
   "execution_count": 54,
   "metadata": {},
   "outputs": [
    {
     "name": "stdout",
     "output_type": "stream",
     "text": [
      "P1 = \n",
      " tensor([0.7161, 0.5431, 1.7807], dtype=torch.float64)\n",
      "torch.Size([3])\n",
      "P2 = \n",
      " tensor([-1.1643,  0.8371, -1.0551], dtype=torch.float64)\n",
      "P3 = \n",
      " tensor([-1.5224,  0.4292, -0.1994], dtype=torch.float64)\n",
      "P4 = \n",
      " tensor([-1.5224,  0.4292, -0.1994], dtype=torch.float64)\n"
     ]
    }
   ],
   "source": [
    "# Definition of 3D points in the world coordinate system\n",
    "def point3Daleatoire(x) :\n",
    "  # Generation of one random points in 3D space \n",
    "  return torch.tensor([[np.random.uniform(-x,x),np.random.uniform(-x,x),np.random.uniform(-x,x)]])\n",
    "\n",
    "def pts_3D_4pts():\n",
    "  # Generate randomly 4 3D points\n",
    "  # Output : array which concatenate the 4 points = [ P1, P2, P3, P4 ] \n",
    "\n",
    "  P1 = point3Daleatoire(2)     # (1*3) -> pour P3P\n",
    "  P2 = point3Daleatoire(2)\n",
    "  P3 = point3Daleatoire(2)\n",
    "  P4 = point3Daleatoire(2)\n",
    "  \n",
    "  points3D = torch.cat((P1,P2,P3,P4),dim=0);     # (LIGNES 4* COLONNES 3) - xyz\n",
    "  print(\"points3D = \\n\", points3D)\n",
    "  print(points3D.shape)  # (4*3)\n",
    "  return points3D\n",
    "\n",
    "P1 = torch.tensor([0.7161, 0.5431, 1.7807], dtype=torch.float64)\n",
    "P2 = torch.tensor([-1.1643, 0.8371, -1.0551], dtype=torch.float64)\n",
    "P3 = torch.tensor([-1.5224, 0.4292, -0.1994], dtype=torch.float64)\n",
    "P4 = torch.tensor([-1.5224, 0.4292, -0.1994], dtype=torch.float64) \n",
    "\n",
    "\n",
    "print(\"P1 = \\n\", P1)\n",
    "print(P1.shape)  # (3,)\n",
    "print(\"P2 = \\n\", P2)\n",
    "print(\"P3 = \\n\", P3)\n",
    "print(\"P4 = \\n\", P4)"
   ]
  },
  {
   "cell_type": "markdown",
   "metadata": {},
   "source": [
    "We create the 3 direction features vectors f1, f2, f3"
   ]
  },
  {
   "cell_type": "code",
   "execution_count": 55,
   "metadata": {},
   "outputs": [
    {
     "name": "stdout",
     "output_type": "stream",
     "text": [
      "points3D = \n",
      " [tensor([0.7161, 0.5431, 1.7807], dtype=torch.float64), tensor([-1.1643,  0.8371, -1.0551], dtype=torch.float64), tensor([-1.5224,  0.4292, -0.1994], dtype=torch.float64)]\n",
      "torch.Size([1, 3])\n",
      "features vectors = \n",
      " tensor([[ 0.1660, -0.1259,  0.9781],\n",
      "        [-0.1617, -0.1163,  0.9800],\n",
      "        [-0.2379, -0.0671,  0.9690]], dtype=torch.float64)\n",
      "torch.Size([3, 3])\n"
     ]
    }
   ],
   "source": [
    "def features_vectors(points3D,C, R) :\n",
    "    '''\n",
    "    This function computes the features vectors for P3P algorithm.\n",
    "    args:\n",
    "    points3D : array with the 4 3D points = [ P1, P2, P3, P4 ] (4*3) \n",
    "    but we only use the first three points for P3P\n",
    "    C: camera position matrix : (3*1)\n",
    "    returns:\n",
    "    featuresVect : array with the features vectors (9*1)\n",
    "    '''\n",
    "    P1 = torch.reshape(points3D[0], (3,1))  # Reshape to (3,1) for easier calculations\n",
    "    P2 = torch.reshape(points3D[1], (3,1))\n",
    "    P3 = torch.reshape(points3D[2], (3,1))\n",
    "\n",
    "    C = torch.reshape(C, (3,1))  # Reshape C to (3,1) for easier calculations\n",
    "    v1 = torch.tensordot(R,(P1 - C), dims=1)  # Calculate the vector from camera to P1\n",
    "    v2 = torch.tensordot(R,(P2 - C), dims=1)  # Calculate the vector from camera to P2\n",
    "    v3 = torch.tensordot(R,(P3 - C), dims=1)  # Calculate the vector from camera to P3\n",
    "\n",
    "    f1 = v1 / torch.norm(v1)\n",
    "    f2 = v2 / torch.norm(v2)\n",
    "    f3 = v3 / torch.norm(v3)\n",
    "\n",
    "    f1 = torch.reshape(f1, (1,3))  # Reshape to (3,1)\n",
    "    print(f1.shape) # (1,3)\n",
    "    f2 = torch.reshape(f2, (1,3))\n",
    "    f3 = torch.reshape(f3, (1,3))\n",
    "\n",
    "    featuresVect = torch.cat((f1,f2,f3),dim=0)\n",
    "    print(\"features vectors = \\n\",featuresVect)\n",
    "    print(featuresVect.shape)  # (3,3)\n",
    "\n",
    "    return featuresVect # Return the features vectors need in P3P\n",
    "\n",
    "\n",
    "points3D = [P1, P2, P3]  # We define the points3D with the first three points\n",
    "print(\"points3D = \\n\", points3D)  # Print the points3D to check the values  / List len = 3 \n",
    "\n",
    "featuresVect = features_vectors(points3D, C, R)  "
   ]
  },
  {
   "cell_type": "markdown",
   "metadata": {},
   "source": [
    "Lastly we need the functions to resolve the polynomial roots. - for test go to test resolution polynome "
   ]
  },
  {
   "cell_type": "code",
   "execution_count": 56,
   "metadata": {},
   "outputs": [],
   "source": [
    "from complex_utils import *\n",
    "\n",
    "\n",
    "def polynomial_root_calculation_4th_degree_ferrari(a): # Ferrari's Method\n",
    "    # Solving a polynomial of 4th degree\n",
    "\n",
    "    # Input : array 5*1 with the 5 coefficiants of the polynomial \n",
    "    # Output : roots of the polynomial a[4]*x^4 + a[3]*x^3 + a[2]*x^2 + a[1]*x + a[0]   -> array : [x1,x2,x3,x4]  (4*1)\n",
    "\n",
    "    if a.numel() != 5 :\n",
    "      print(\"Expeted 5 coefficiants for a 4th order polynomial\")\n",
    "      return\n",
    "\n",
    "    a0, a1, a2, a3, a4 = a      # float\n",
    "\n",
    "    # Reduce the quartic equation to the form : x^4 + a*x^3 + b*x^2 + c*x + d = 0\n",
    "    a = a3/a4           # float \n",
    "    b = a2/a4\n",
    "    c = a1/a4\n",
    "    d = a0/a4\n",
    "\n",
    "    # Computation of the coefficients of the Ferrari's Method\n",
    "    S = a/4\n",
    "    b0 = d - c*S + b* S**2 - 3* S**4\n",
    "    b1 = c - 2*b*S + 8*S**3\n",
    "    b2 = b - 6 * S**2\n",
    "\n",
    "\n",
    "    # Solve the cubic equation m^3 + b2*m^2 + (b2^2/4  - b0)*m - b1^2/8 = 0\n",
    "    x_cube = polynomial_root_calculation_3rd_degree(1,b2,(b2**2)/4-b0,(-b1**2)/8)\n",
    "    \n",
    "\n",
    "    # Find a real and positive solution\n",
    "    alpha_0_nul = True\n",
    "    for r in x_cube :\n",
    "      if torch.isclose(r[1],torch.tensor(0.0,dtype=torch.float64),atol=1e-7) and r[0] > 0 :\n",
    "        alpha_0 = r\n",
    "        alpha_0_nul = False\n",
    "        \n",
    "\n",
    "    if alpha_0_nul == False :   # case where we found a real and positive solution so alpha_0_imag = 0 \n",
    "        alpha0_div_2 = product_complex_real(alpha_0,0.5)\n",
    "        sqrt_alpha = sqrt(alpha0_div_2[0])\n",
    "        term = addition_complex_real(- alpha0_div_2 ,-b2 / 2)\n",
    "        denom = 2 * torch.sqrt(2 * alpha_0)\n",
    "        \n",
    "       \n",
    "        frac = division_2_complex_numbers(torch.tensor([b1, 0.0]), denom)  # b1 is real, so we can use a tensor with 0 imaginary part\n",
    "\n",
    "        x1 = addition_complex_real(sqrt_alpha ,- S) + sqrt_complex(addition(term,-frac))\n",
    "        x2 = addition_complex_real(sqrt_alpha, - S) - sqrt_complex(addition(term,-frac))\n",
    "        x3 = addition_complex_real(-sqrt_alpha, - S) + sqrt_complex(addition(term,frac))\n",
    "        x4 = addition_complex_real(-sqrt_alpha,- S) - sqrt_complex(addition(term,frac))\n",
    "    \n",
    "    else:\n",
    "\n",
    "        sqrt_inner1 = sqrt((b2**2) / 4 - b0)        # complex \n",
    "        x1 = addition_complex_real(sqrt_complex(addition_complex_real(sqrt_inner1,-b2 / 2)),-S)\n",
    "        x2 = addition_complex_real(- sqrt_complex(addition_complex_real(sqrt_inner1,-b2 / 2)),-S)\n",
    "        x3 = addition_complex_real(sqrt_complex(addition_complex_real(- sqrt_inner1,-b2 / 2 )),-S)\n",
    "        x4 = addition_complex_real(- sqrt_complex(addition_complex_real(- sqrt_inner1,-b2 / 2 )),-S)\n",
    "\n",
    "    return [x1, x2, x3, x4]\n",
    "\n",
    "\n"
   ]
  },
  {
   "cell_type": "markdown",
   "metadata": {},
   "source": [
    "We have all the variables needed for the p3p so we start"
   ]
  },
  {
   "cell_type": "markdown",
   "metadata": {},
   "source": [
    "1. on stocke les points : c'est fait"
   ]
  },
  {
   "cell_type": "code",
   "execution_count": 57,
   "metadata": {},
   "outputs": [
    {
     "name": "stdout",
     "output_type": "stream",
     "text": [
      "tensor([0.7161, 0.5431, 1.7807], dtype=torch.float64) tensor([-1.1643,  0.8371, -1.0551], dtype=torch.float64) tensor([-1.5224,  0.4292, -0.1994], dtype=torch.float64)\n"
     ]
    }
   ],
   "source": [
    "print(P1, P2, P3)"
   ]
  },
  {
   "cell_type": "markdown",
   "metadata": {},
   "source": [
    "2. Stpockage des features vectors : fait"
   ]
  },
  {
   "cell_type": "code",
   "execution_count": 58,
   "metadata": {},
   "outputs": [
    {
     "name": "stdout",
     "output_type": "stream",
     "text": [
      "f1 =  tensor([ 0.1660, -0.1259,  0.9781], dtype=torch.float64)\n",
      "torch.Size([3])\n",
      "f2 =  tensor([-0.1617, -0.1163,  0.9800], dtype=torch.float64)\n",
      "f3 =  tensor([-0.2379, -0.0671,  0.9690], dtype=torch.float64)\n"
     ]
    }
   ],
   "source": [
    "# we got featuresVect and we access the 3 values \n",
    "f1 = featuresVect[0]\n",
    "f2 = featuresVect[1]\n",
    "f3 = featuresVect[2]\n",
    "\n",
    "print(\"f1 = \", f1)\n",
    "print(f1.shape)  # (3,)\n",
    "print(\"f2 = \", f2)\n",
    "print(\"f3 = \", f3)"
   ]
  },
  {
   "cell_type": "markdown",
   "metadata": {},
   "source": [
    "3. on créer la variable de solution, au maximum on a 4 solutions, on a la (3,1) qui contiendra C et (3,3) contiendra R "
   ]
  },
  {
   "cell_type": "code",
   "execution_count": 59,
   "metadata": {},
   "outputs": [
    {
     "name": "stdout",
     "output_type": "stream",
     "text": [
      "solutions = \n",
      " tensor([[[0., 0., 0., 0.],\n",
      "         [0., 0., 0., 0.],\n",
      "         [0., 0., 0., 0.]],\n",
      "\n",
      "        [[0., 0., 0., 0.],\n",
      "         [0., 0., 0., 0.],\n",
      "         [0., 0., 0., 0.]],\n",
      "\n",
      "        [[0., 0., 0., 0.],\n",
      "         [0., 0., 0., 0.],\n",
      "         [0., 0., 0., 0.]],\n",
      "\n",
      "        [[0., 0., 0., 0.],\n",
      "         [0., 0., 0., 0.],\n",
      "         [0., 0., 0., 0.]]], dtype=torch.float64)\n",
      "torch.Size([4, 3, 4])\n"
     ]
    }
   ],
   "source": [
    "solutions = torch.zeros((4,3,4), dtype=torch.float64)\n",
    "print(\"solutions = \\n\", solutions)\n",
    "print(solutions.shape)  # (4,3,4)"
   ]
  },
  {
   "cell_type": "markdown",
   "metadata": {},
   "source": [
    "4. On teste si les 3 points ne sont pas colinéaires"
   ]
  },
  {
   "cell_type": "code",
   "execution_count": 60,
   "metadata": {},
   "outputs": [
    {
     "name": "stdout",
     "output_type": "stream",
     "text": [
      "The points are not collinear, we can continue\n"
     ]
    }
   ],
   "source": [
    "# Test of non-collinearity\n",
    "v1 = P2 - P1\n",
    "v2 = P3 - P1\n",
    "if torch.norm(torch.cross(v1,v2, dim=0))==0 :\n",
    "    print('Problem: the points must not be collinear')\n",
    "else:\n",
    "    print('The points are not collinear, we can continue')"
   ]
  },
  {
   "cell_type": "markdown",
   "metadata": {},
   "source": [
    "5. On crée un repère orthonormée à partir de f1, f2, f3"
   ]
  },
  {
   "cell_type": "code",
   "execution_count": 61,
   "metadata": {},
   "outputs": [
    {
     "name": "stdout",
     "output_type": "stream",
     "text": [
      "tx =  tensor([ 0.1660, -0.1259,  0.9781], dtype=torch.float64)\n",
      "torch.Size([3])\n",
      "tz =  tensor([-0.0298, -0.9920, -0.1226], dtype=torch.float64)\n",
      "ty =  tensor([-0.9857,  0.0088,  0.1684], dtype=torch.float64)\n"
     ]
    }
   ],
   "source": [
    "# Calculation of vectors of the base τ = (C,tx,ty,tz)\n",
    "tx = f1     \n",
    "print(\"tx = \", tx)\n",
    "print(tx.shape)  # (3,)\n",
    "tz = torch.cross(f1,f2)/torch.norm(torch.cross(f1,f2))\n",
    "print(\"tz = \", tz)\n",
    "ty = torch.cross(tz,tx)\n",
    "print(\"ty = \", ty)"
   ]
  },
  {
   "cell_type": "code",
   "execution_count": 62,
   "metadata": {},
   "outputs": [
    {
     "name": "stdout",
     "output_type": "stream",
     "text": [
      "tx = tensor([ 0.1660, -0.1259,  0.9781], dtype=torch.float64)\n",
      "ty = tensor([-0.9857,  0.0088,  0.1684], dtype=torch.float64)\n",
      "tz = tensor([-0.0298, -0.9920, -0.1226], dtype=torch.float64)\n",
      "\n",
      "Vérification orthogonalité :\n",
      "tx · ty = 0.0\n",
      "tx · tz = -2.7755575615628914e-17\n",
      "ty · tz = -3.469446951953614e-18\n"
     ]
    },
    {
     "name": "stderr",
     "output_type": "stream",
     "text": [
      "C:\\Users\\pmamalet\\AppData\\Local\\Temp\\ipykernel_18092\\3927387243.py:8: DeprecationWarning: __array__ implementation doesn't accept a copy keyword, so passing copy=False failed. __array__ must implement 'dtype' and 'copy' keyword arguments. To learn more, see the migration guide https://numpy.org/devdocs/numpy_2_0_migration_guide.html#adapting-to-changes-in-the-copy-keyword\n",
      "  print(\"tx · ty =\", np.dot(tx, ty))\n",
      "C:\\Users\\pmamalet\\AppData\\Local\\Temp\\ipykernel_18092\\3927387243.py:9: DeprecationWarning: __array__ implementation doesn't accept a copy keyword, so passing copy=False failed. __array__ must implement 'dtype' and 'copy' keyword arguments. To learn more, see the migration guide https://numpy.org/devdocs/numpy_2_0_migration_guide.html#adapting-to-changes-in-the-copy-keyword\n",
      "  print(\"tx · tz =\", np.dot(tx, tz))\n",
      "C:\\Users\\pmamalet\\AppData\\Local\\Temp\\ipykernel_18092\\3927387243.py:10: DeprecationWarning: __array__ implementation doesn't accept a copy keyword, so passing copy=False failed. __array__ must implement 'dtype' and 'copy' keyword arguments. To learn more, see the migration guide https://numpy.org/devdocs/numpy_2_0_migration_guide.html#adapting-to-changes-in-the-copy-keyword\n",
      "  print(\"ty · tz =\", np.dot(ty, tz))\n"
     ]
    },
    {
     "data": {
      "image/png": "[encoded data removed]",
      "text/plain": [
       "<Figure size 640x480 with 1 Axes>"
      ]
     },
     "metadata": {},
     "output_type": "display_data"
    }
   ],
   "source": [
    "import numpy as np\n",
    "import matplotlib.pyplot as plt\n",
    "print(\"tx =\", tx)\n",
    "print(\"ty =\", ty)\n",
    "print(\"tz =\", tz)\n",
    "\n",
    "print(\"\\nVérification orthogonalité :\")\n",
    "print(\"tx · ty =\", np.dot(tx, ty))\n",
    "print(\"tx · tz =\", np.dot(tx, tz))\n",
    "print(\"ty · tz =\", np.dot(ty, tz))\n",
    "\n",
    "fig = plt.figure()\n",
    "ax = fig.add_subplot(111, projection='3d')\n",
    "\n",
    "origin = np.zeros(3)\n",
    "\n",
    "ax.quiver(*origin, *tx, color='r', label='tx')\n",
    "ax.quiver(*origin, *ty, color='g', label='ty')\n",
    "ax.quiver(*origin, *tz, color='b', label='tz')\n",
    "\n",
    "ax.set_xlim([-1, 1])\n",
    "ax.set_ylim([-1, 1])\n",
    "ax.set_zlim([-1, 1])\n",
    "\n",
    "ax.set_xlabel('X')\n",
    "ax.set_ylabel('Y')\n",
    "ax.set_zlabel('Z')\n",
    "ax.set_title('Base τ (tx, ty, tz)')\n",
    "ax.legend()\n",
    "plt.show()\n"
   ]
  },
  {
   "cell_type": "markdown",
   "metadata": {},
   "source": [
    "5.bis On crée la matrice de transformation T  "
   ]
  },
  {
   "cell_type": "code",
   "execution_count": 63,
   "metadata": {},
   "outputs": [
    {
     "name": "stdout",
     "output_type": "stream",
     "text": [
      "tx = \n",
      " tensor([[ 0.1660, -0.1259,  0.9781]], dtype=torch.float64)\n",
      "torch.Size([1, 3])\n",
      "ty = \n",
      " tensor([[-0.9857,  0.0088,  0.1684]], dtype=torch.float64)\n",
      "tz = \n",
      " tensor([[-0.0298, -0.9920, -0.1226]], dtype=torch.float64)\n",
      "f3_T = \n",
      " tensor([ 0.9166,  0.3971, -0.0452], dtype=torch.float64)\n",
      "torch.Size([3])\n",
      "T = \n",
      " tensor([[ 0.1660, -0.1259,  0.9781],\n",
      "        [-0.9857,  0.0088,  0.1684],\n",
      "        [-0.0298, -0.9920, -0.1226]], dtype=torch.float64)\n",
      "torch.Size([3, 3])\n"
     ]
    }
   ],
   "source": [
    "tx = torch.reshape(tx,(1,3))   # (1*3)\n",
    "ty = torch.reshape(ty,(1,3))\n",
    "tz = torch.reshape(tz,(1,3))\n",
    "\n",
    "# Computation of the matrix T and the feature vector f3\n",
    "T = torch.cat((tx,ty,tz),dim = 0) # (3*3)\n",
    "f3_T = torch.tensordot(T,f3, dims=1) # (3,)\n",
    "\n",
    "print(\"tx = \\n\", tx)\n",
    "print(tx.shape)  # (1*3)\n",
    "print(\"ty = \\n\", ty)\n",
    "print(\"tz = \\n\", tz)\n",
    "print(\"f3_T = \\n\", f3_T)\n",
    "print(f3_T.shape)  # (3,)\n",
    "print(\"T = \\n\", T)\n",
    "print(T.shape)  # (3,3)"
   ]
  },
  {
   "cell_type": "markdown",
   "metadata": {},
   "source": [
    "Il faut satisfaire la condition que z dans f3_T est négative, sinon on inverse l'ordre des vecteur afin de .... "
   ]
  },
  {
   "cell_type": "code",
   "execution_count": 64,
   "metadata": {},
   "outputs": [],
   "source": [
    "f3_T_positif = False\n",
    "\n",
    "# Having teta in [ 0, pi ] \n",
    "if f3_T[2] > 0 :\n",
    "    f3_T_positif = True\n",
    "   "
   ]
  },
  {
   "cell_type": "markdown",
   "metadata": {},
   "source": [
    "6. on change de base du coté des points 3D"
   ]
  },
  {
   "cell_type": "code",
   "execution_count": 65,
   "metadata": {},
   "outputs": [
    {
     "name": "stdout",
     "output_type": "stream",
     "text": [
      "nx =  tensor([-0.5506,  0.0861, -0.8303], dtype=torch.float64)\n",
      "torch.Size([3])\n",
      "ny =  tensor([-0.7747, -0.4233,  0.4698], dtype=torch.float64)\n",
      "nz =  tensor([-0.3110,  0.9019,  0.2998], dtype=torch.float64)\n",
      "nx = \n",
      " tensor([[-0.5506,  0.0861, -0.8303]], dtype=torch.float64)\n",
      "torch.Size([1, 3])\n",
      "ny = \n",
      " tensor([[-0.7747, -0.4233,  0.4698]], dtype=torch.float64)\n",
      "nz = \n",
      " tensor([[-0.3110,  0.9019,  0.2998]], dtype=torch.float64)\n",
      "N = \n",
      " tensor([[-0.5506,  0.0861, -0.8303],\n",
      "        [-0.7747, -0.4233,  0.4698],\n",
      "        [-0.3110,  0.9019,  0.2998]], dtype=torch.float64)\n",
      "torch.Size([3, 3])\n",
      "P3_n = \n",
      " tensor([2.8668, 0.8521, 0.0000], dtype=torch.float64)\n",
      "torch.Size([3])\n"
     ]
    }
   ],
   "source": [
    "# Calculation of vectors of the base η = (P1,nx,ny,nz)\n",
    "nx = (P2 - P1)/torch.norm(P2 - P1)      #(3,)\n",
    "nz = torch.cross(nx,P3-P1)/torch.norm(torch.cross(nx,P3-P1), dim=0)  \n",
    "ny = torch.cross(nz,nx)\n",
    "print(\"nx = \", nx)\n",
    "print(nx.shape)  # (3,)\n",
    "print(\"ny = \", ny)\n",
    "print(\"nz = \", nz)\n",
    "\n",
    "# Reshape the vectors to (1,3) for concatenation\n",
    "nx = torch.reshape(nx,(1,3))  # (1,3)\n",
    "ny = torch.reshape(ny,(1,3))\n",
    "nz = torch.reshape(nz,(1,3))\n",
    "print(\"nx = \\n\", nx)\n",
    "print(nx.shape)  # (1*3)\n",
    "print(\"ny = \\n\", ny)\n",
    "print(\"nz = \\n\", nz)\n",
    "\n",
    "# Computation of the matrix N and the world point P3\n",
    "N = torch.cat((nx,ny,nz),dim = 0) # (3*3) T's equivalent in the world coordinate system\n",
    "\n",
    "P3_n = torch.tensordot(N,P3-P1, dims=1) # (3,)\n",
    "\n",
    "print(\"N = \\n\", N)\n",
    "print(N.shape)  # (3,3)\n",
    "print(\"P3_n = \\n\", P3_n)\n",
    "print(P3_n.shape)  # (3,)\n"
   ]
  },
  {
   "cell_type": "markdown",
   "metadata": {},
   "source": [
    "7. On définit des variable pour la suite"
   ]
  },
  {
   "cell_type": "code",
   "execution_count": 66,
   "metadata": {},
   "outputs": [
    {
     "name": "stdout",
     "output_type": "stream",
     "text": [
      "phi1 =  tensor(-20.2913, dtype=torch.float64)\n",
      "phi2 =  tensor(-8.7914, dtype=torch.float64)\n",
      "p1 =  tensor(2.8668, dtype=torch.float64)\n",
      "p2 =  tensor(0.8521, dtype=torch.float64)\n",
      "d12 =  tensor(3.4153, dtype=torch.float64)\n",
      "cosBeta =  tensor(0.9463, dtype=torch.float64)\n",
      "b =  tensor(2.9257, dtype=torch.float64)\n"
     ]
    }
   ],
   "source": [
    "# Computation of phi1 et phi2 with 0=x, 1=y, 2=z\n",
    "phi1 = f3_T[0]/f3_T[2]\n",
    "phi2 = f3_T[1]/f3_T[2]\n",
    "print(\"phi1 = \", phi1)\n",
    "print(\"phi2 = \", phi2)\n",
    "\n",
    "# Extraction of p1 and p2 from P3_eta\n",
    "p1 = P3_n[0] #x\n",
    "p2 = P3_n[1] #y\n",
    "print(\"p1 = \", p1)\n",
    "print(\"p2 = \", p2)\n",
    "\n",
    "# Computation of d12\n",
    "d12 = torch.norm(P2-P1)\n",
    "print(\"d12 = \", d12)\n",
    "\n",
    "# Computation of b = cot(beta)\n",
    "cosBeta = torch.dot(f1,f2)/(torch.norm(f1)*torch.norm(f2)) \n",
    "print(\"cosBeta = \", cosBeta)  \n",
    "b = torch.sqrt(1/(1-cosBeta**2)-1)\n",
    "\n",
    "if cosBeta < 0 :\n",
    "    b = -b\n",
    "print(\"b = \", b)"
   ]
  },
  {
   "cell_type": "code",
   "execution_count": 67,
   "metadata": {},
   "outputs": [
    {
     "name": "stdout",
     "output_type": "stream",
     "text": [
      "a4 =  tensor(-258.3021, dtype=torch.float64)\n",
      "a3 =  tensor(214.0641, dtype=torch.float64)\n",
      "a2 =  tensor(-468.5401, dtype=torch.float64)\n",
      "a1 =  tensor(-228.4748, dtype=torch.float64)\n",
      "a0 =  tensor(653.6391, dtype=torch.float64)\n"
     ]
    }
   ],
   "source": [
    "a4 = - phi2**2 * p2**4 - phi1**2 * p2**4 - p2**4\n",
    "a3 = 2 * p2**3 * d12 * b + 2 * phi2**2 * p2**3 * d12 * b - 2 * phi1 * phi2 * p2**3 * d12\n",
    "a2 = - phi2**2 * p1**2 * p2**2 - phi2**2 * p2**2 * d12**2 * b**2 - phi2**2 * p2**2 * d12**2 + phi2**2 * p2**4 + phi1**2 * p2 **4 + 2 * p1 * p2**2 * d12 + 2 * phi1 * phi2 * p1 * p2**2 * d12 * b - phi1**2 * p1**2 * p2**2 + 2 * phi2**2 * p1 * p2**2 * d12 - p2**2 * d12**2 * b**2 - 2 * p1**2 * p2**2\n",
    "a1 = 2 * p1**2 * p2 * d12 * b + 2 * phi1 * phi2 * p2**3 * d12 - 2 * phi2**2 * p2**3 * d12 * b - 2 * p1 * p2 * d12**2 * b\n",
    "a0 = - 2 * phi1 * phi2 * p1 * p2**2 * d12 * b + phi2**2 * p2**2 * d12**2 + 2 * p1**3 * d12 - p1**2 * d12**2 + phi2**2 * p1**2 * p2**2 - p1**4 - 2 * phi2**2 * p1 * p2**2 * d12 + phi1**2 * p1**2 * p2**2 + phi2**2 * p2**2 * d12**2 * b**2\n",
    "\n",
    "print(\"a4 = \", a4)\n",
    "print(\"a3 = \", a3)\n",
    "print(\"a2 = \", a2)\n",
    "print(\"a1 = \", a1)\n",
    "print(\"a0 = \", a0)\n"
   ]
  },
  {
   "cell_type": "code",
   "execution_count": 68,
   "metadata": {},
   "outputs": [
    {
     "name": "stdout",
     "output_type": "stream",
     "text": [
      "roots = \n",
      " [tensor([0.4313, 1.6044], dtype=torch.float64), tensor([ 0.4313, -1.6044], dtype=torch.float64), tensor([0.9407, 0.0000], dtype=torch.float64), tensor([-0.9746, -0.0000], dtype=torch.float64)]\n"
     ]
    },
    {
     "name": "stderr",
     "output_type": "stream",
     "text": [
      "c:\\Users\\pmamalet\\Documents\\Stage\\PoseEstimation\\complex_utils.py:80: UserWarning: To copy construct from a tensor, it is recommended to use sourceTensor.detach().clone() or sourceTensor.detach().clone().requires_grad_(True), rather than torch.tensor(sourceTensor).\n",
      "  return torch.tensor([torch.sqrt(torch.tensor(a)), 0.0])\n"
     ]
    }
   ],
   "source": [
    "# Computation of the roots\n",
    "roots = polynomial_root_calculation_4th_degree_ferrari(torch.tensor([a0,a1,a2,a3,a4])) # (4,)\n",
    "\n",
    "print(\"roots = \\n\", roots)  # list of tensor (for complex numbers)\n"
   ]
  },
  {
   "cell_type": "code",
   "execution_count": 69,
   "metadata": {},
   "outputs": [
    {
     "name": "stdout",
     "output_type": "stream",
     "text": [
      "C_estimate = \n",
      " tensor([-1.0076,  0.2018,  0.4222], dtype=torch.float64)\n",
      "torch.Size([3])\n",
      "Q = \n",
      " tensor([[ 0.9070, -0.1817, -0.3800],\n",
      "        [ 0.4212,  0.3912,  0.8183],\n",
      "        [ 0.0000, -0.9022,  0.4313]], dtype=torch.float64)\n",
      "torch.Size([3, 3])\n",
      "C_estimate = \n",
      " tensor([0.9832, 0.7517, 2.8388], dtype=torch.float64)\n",
      "torch.Size([3])\n",
      "C_estimate = \n",
      " tensor([[0.9832],\n",
      "        [0.7517],\n",
      "        [2.8388]], dtype=torch.float64)\n",
      "C_estimate.shape =  torch.Size([3, 1])\n",
      "R_estimate = \n",
      " tensor([[ 0.7214, -0.5369, -0.4374],\n",
      "        [-0.6541, -0.7357, -0.1756],\n",
      "        [-0.2275,  0.4128, -0.8820]], dtype=torch.float64)\n",
      "torch.Size([3, 3])\n",
      "C_estimate = \n",
      " tensor([-1.0076,  0.2018,  0.4222], dtype=torch.float64)\n",
      "torch.Size([3])\n",
      "Q = \n",
      " tensor([[ 0.9070, -0.1817, -0.3800],\n",
      "        [ 0.4212,  0.3912,  0.8183],\n",
      "        [ 0.0000, -0.9022,  0.4313]], dtype=torch.float64)\n",
      "torch.Size([3, 3])\n",
      "C_estimate = \n",
      " tensor([0.9832, 0.7517, 2.8388], dtype=torch.float64)\n",
      "torch.Size([3])\n",
      "C_estimate = \n",
      " tensor([[0.9832],\n",
      "        [0.7517],\n",
      "        [2.8388]], dtype=torch.float64)\n",
      "C_estimate.shape =  torch.Size([3, 1])\n",
      "R_estimate = \n",
      " tensor([[ 0.7214, -0.5369, -0.4374],\n",
      "        [-0.6541, -0.7357, -0.1756],\n",
      "        [-0.2275,  0.4128, -0.8820]], dtype=torch.float64)\n",
      "torch.Size([3, 3])\n",
      "C_estimate = \n",
      " tensor([-3.1559,  2.7668,  0.9977], dtype=torch.float64)\n",
      "torch.Size([3])\n",
      "Q = \n",
      " tensor([[ 0.7316, -0.6414, -0.2313],\n",
      "        [ 0.6818,  0.6882,  0.2481],\n",
      "        [ 0.0000, -0.3392,  0.9407]], dtype=torch.float64)\n",
      "torch.Size([3, 3])\n",
      "C_estimate = \n",
      " tensor([6.8834e-15, 1.4877e-14, 6.0000e+00], dtype=torch.float64)\n",
      "torch.Size([3])\n",
      "C_estimate = \n",
      " tensor([[6.8834e-15],\n",
      "        [1.4877e-14],\n",
      "        [6.0000e+00]], dtype=torch.float64)\n",
      "C_estimate.shape =  torch.Size([3, 1])\n",
      "R_estimate = \n",
      " tensor([[ 1.0000e+00, -3.7068e-15, -1.7408e-15],\n",
      "        [-3.6966e-15, -1.0000e+00, -2.5909e-15],\n",
      "        [-1.7123e-15,  2.6610e-15, -1.0000e+00]], dtype=torch.float64)\n",
      "torch.Size([3, 3])\n",
      "C_estimate = \n",
      " tensor([ 6.0281, -1.9115,  0.4390], dtype=torch.float64)\n",
      "torch.Size([3])\n",
      "Q = \n",
      " tensor([[-0.9509,  0.3015, -0.0692],\n",
      "        [ 0.3094,  0.9268, -0.2128],\n",
      "        [ 0.0000, -0.2238, -0.9746]], dtype=torch.float64)\n",
      "torch.Size([3, 3])\n",
      "C_estimate = \n",
      " tensor([-1.2586,  2.2671, -3.9910], dtype=torch.float64)\n",
      "torch.Size([3])\n",
      "C_estimate = \n",
      " tensor([[-1.2586],\n",
      "        [ 2.2671],\n",
      "        [-3.9910]], dtype=torch.float64)\n",
      "C_estimate.shape =  torch.Size([3, 1])\n",
      "R_estimate = \n",
      " tensor([[ 0.8478, -0.5192,  0.1078],\n",
      "        [ 0.5279,  0.8073, -0.2637],\n",
      "        [ 0.0499,  0.2805,  0.9586]], dtype=torch.float64)\n",
      "torch.Size([3, 3])\n",
      "solutions = \n",
      " tensor([[[ 9.8322e-01,  7.2140e-01, -5.3692e-01, -4.3738e-01],\n",
      "         [ 7.5168e-01, -6.5409e-01, -7.3574e-01, -1.7564e-01],\n",
      "         [ 2.8388e+00, -2.2749e-01,  4.1279e-01, -8.8196e-01]],\n",
      "\n",
      "        [[ 9.8322e-01,  7.2140e-01, -5.3692e-01, -4.3738e-01],\n",
      "         [ 7.5168e-01, -6.5409e-01, -7.3574e-01, -1.7564e-01],\n",
      "         [ 2.8388e+00, -2.2749e-01,  4.1279e-01, -8.8196e-01]],\n",
      "\n",
      "        [[ 6.8834e-15,  1.0000e+00, -3.7068e-15, -1.7408e-15],\n",
      "         [ 1.4877e-14, -3.6966e-15, -1.0000e+00, -2.5909e-15],\n",
      "         [ 6.0000e+00, -1.7123e-15,  2.6610e-15, -1.0000e+00]],\n",
      "\n",
      "        [[-1.2586e+00,  8.4783e-01, -5.1920e-01,  1.0778e-01],\n",
      "         [ 2.2671e+00,  5.2791e-01,  8.0731e-01, -2.6374e-01],\n",
      "         [-3.9910e+00,  4.9920e-02,  2.8051e-01,  9.5855e-01]]],\n",
      "       dtype=torch.float64)\n"
     ]
    },
    {
     "name": "stderr",
     "output_type": "stream",
     "text": [
      "C:\\Users\\pmamalet\\AppData\\Local\\Temp\\ipykernel_18092\\4123210296.py:6: UserWarning: To copy construct from a tensor, it is recommended to use sourceTensor.detach().clone() or sourceTensor.detach().clone().requires_grad_(True), rather than torch.tensor(sourceTensor).\n",
      "  cos_teta = torch.tensor(roots[i][0])# real part of the root\n"
     ]
    }
   ],
   "source": [
    "# For each solution of the polynomial\n",
    "for i in range(4):\n",
    "  #if np.isclose(np.imag(roots[i]),0) : # if real solution \n",
    "\n",
    "    # Computation of trigonometrics forms\n",
    "    cos_teta = torch.tensor(roots[i][0])# real part of the root \n",
    "    sin_teta = torch.sqrt(1-cos_teta**2)\n",
    "\n",
    "    cot_alpha = ((phi1/phi2)*p1 + cos_teta*p2 -d12*b )/ ((phi1/phi2)*cos_teta* p2 - p1 + d12)\n",
    "\n",
    "    sin_alpha = torch.sqrt(1/(cot_alpha**2+1))\n",
    "    cos_alpha= torch.sqrt(1-sin_alpha**2)\n",
    "\n",
    "    if cot_alpha < 0 :\n",
    "      cos_alpha = -cos_alpha\n",
    "\n",
    "    # Computation of the intermediate rotation's matrixs\n",
    "    C_estimate = torch.tensor([d12*cos_alpha*(sin_alpha*b + cos_alpha), d12*sin_alpha*cos_teta*(sin_alpha*b+cos_alpha), d12*sin_alpha*sin_teta*(sin_alpha*b+cos_alpha)]) # (3,)\n",
    "    print(\"C_estimate = \\n\", C_estimate)\n",
    "    print(C_estimate.shape)  # (3,)\n",
    "    Q = torch.tensor([[-cos_alpha, -sin_alpha*cos_teta, -sin_alpha*sin_teta], [sin_alpha, -cos_alpha*cos_teta, -cos_alpha*sin_teta], [0, -sin_teta, cos_teta]])    # (3*3)\n",
    "    print(\"Q = \\n\", Q)\n",
    "    print(Q.shape)  # (3,3)\n",
    "    # Computation of the absolute camera center\n",
    "  \n",
    "    C_estimate = P1 + torch.tensordot(torch.transpose(N, 0,1), C_estimate, dims=1) # (3,)\n",
    "    print(\"C_estimate = \\n\", C_estimate) \n",
    "    print(C_estimate.shape)  # (3,)\n",
    "    C_estimate = torch.reshape(C_estimate, (3,1))  # Reshape to (3,1) for consistency\n",
    "    print(\"C_estimate = \\n\", C_estimate)  # (3,1)\n",
    "    print(\"C_estimate.shape = \", C_estimate.shape)  # (3,1)\n",
    "\n",
    "    # Computation of the orientation matrix\n",
    "    R_estimate = torch.tensordot(torch.tensordot(torch.transpose(N,0,1),torch.transpose(Q, 0,1), dims=1),T,dims=1)   # (3*3)\n",
    "    print(\"R_estimate = \\n\", R_estimate)\n",
    "    print(R_estimate.shape)  # (3,3)\n",
    "    \n",
    "    # Adding C and R to the solutions\n",
    "    solutions[i,:,:1]= C_estimate\n",
    "    solutions[i,:,1:] = R_estimate\n",
    "\n",
    "print(\"solutions = \\n\", solutions)\n"
   ]
  },
  {
   "cell_type": "code",
   "execution_count": 74,
   "metadata": {},
   "outputs": [
    {
     "name": "stdout",
     "output_type": "stream",
     "text": [
      "solutions = \n",
      " tensor([[[ 9.8322e-01,  7.2140e-01, -5.3692e-01, -4.3738e-01],\n",
      "         [ 7.5168e-01, -6.5409e-01, -7.3574e-01, -1.7564e-01],\n",
      "         [ 2.8388e+00, -2.2749e-01,  4.1279e-01, -8.8196e-01]],\n",
      "\n",
      "        [[ 9.8322e-01,  7.2140e-01, -5.3692e-01, -4.3738e-01],\n",
      "         [ 7.5168e-01, -6.5409e-01, -7.3574e-01, -1.7564e-01],\n",
      "         [ 2.8388e+00, -2.2749e-01,  4.1279e-01, -8.8196e-01]],\n",
      "\n",
      "        [[ 6.8834e-15,  1.0000e+00, -3.7068e-15, -1.7408e-15],\n",
      "         [ 1.4877e-14, -3.6966e-15, -1.0000e+00, -2.5909e-15],\n",
      "         [ 6.0000e+00, -1.7123e-15,  2.6610e-15, -1.0000e+00]],\n",
      "\n",
      "        [[-1.2586e+00,  8.4783e-01, -5.1920e-01,  1.0778e-01],\n",
      "         [ 2.2671e+00,  5.2791e-01,  8.0731e-01, -2.6374e-01],\n",
      "         [-3.9910e+00,  4.9920e-02,  2.8051e-01,  9.5855e-01]]],\n",
      "       dtype=torch.float64)\n",
      "torch.Size([4, 3, 4])\n"
     ]
    }
   ],
   "source": [
    "print(\"solutions = \\n\", solutions)\n",
    "print(solutions.shape)  # (4,3,4)"
   ]
  },
  {
   "cell_type": "code",
   "execution_count": 76,
   "metadata": {},
   "outputs": [
    {
     "name": "stdout",
     "output_type": "stream",
     "text": [
      "p1 =  tensor([[455.7761],\n",
      "        [137.0256]], dtype=torch.float64)\n",
      "torch.Size([2, 1])\n",
      "p2 =  tensor([[187.9764],\n",
      "        [145.0786]], dtype=torch.float64)\n",
      "p3 =  tensor([[123.5423],\n",
      "        [184.6140]], dtype=torch.float64)\n",
      "p4 =  tensor([[123.5423],\n",
      "        [184.6140]], dtype=torch.float64)\n"
     ]
    }
   ],
   "source": [
    "def projection3D2D(point3D,C,R,A) :\n",
    "  # 3D point = [ Xw, Yw, Zw ]'   (1*3)\n",
    "  # T : camera translation matrix : (3*1)\n",
    "  # R : camera rotation matrix : (3*3)\n",
    "  # A : intraseca matrix of the camera : (3*3)\n",
    "  # Output : return the coordonates of the point in 2D \n",
    "\n",
    "  PI = torch.cat((torch.eye(3, dtype=torch.float64),torch.zeros((3,1), dtype=torch.float64)),dim=1)  # (3*4)\n",
    "\n",
    "  Rt = torch.cat((R,C),dim=1)               # (3*4)\n",
    "  Rt = torch.cat((Rt,torch.tensor([[0,0,0,1]], dtype=torch.float64)),dim=0)   # (4*4)\n",
    "\n",
    "  point3D_bis = torch.cat((torch.reshape(point3D,(3,1)),torch.tensor([[1]],dtype=torch.float64)),dim=0)   #(4*1)\n",
    "  \n",
    "  point2D = torch.tensordot(torch.tensordot(torch.tensordot(A,PI,dims=1),Rt,dims=1),point3D_bis,dims=1)  # 2D point = [u, v, w] (3*1)\n",
    "  point2D = point2D / point2D[2]        # 2D point = [u, v, 1] (3*1)\n",
    "  return point2D[:2]\n",
    "\n",
    "\n",
    "C_transpose = torch.transpose(C, 0, 1)  # (3*1) -> (1*3)\n",
    "\n",
    "p1 = projection3D2D(P1,C_transpose,R,A)\n",
    "print(\"p1 = \", p1)\n",
    "print(p1.shape)  # (2,1)\n",
    "p2 = projection3D2D(points3D[1],C_transpose,R,A)\n",
    "print(\"p2 = \", p2)\n",
    "p3 = projection3D2D(points3D[2],C_transpose,R,A)\n",
    "print(\"p3 = \", p3)\n",
    "p4 = projection3D2D(P4,C_transpose,R,A)\n",
    "print(\"p4 = \", p4)\n",
    "\n",
    "\n"
   ]
  },
  {
   "cell_type": "code",
   "execution_count": 72,
   "metadata": {},
   "outputs": [],
   "source": [
    "def distance(pt, pt_estimation):\n",
    "    erreur = torch.tensor(0, dtype=torch.float64)  # Initialize error as a tensor\n",
    "    for i in range(len(pt)): \n",
    "      erreur = erreur + torch.tensor((pt[i] - pt_estimation[i])**2, dtype=torch.float64)  # Ensure each term is a tensor\n",
    "      #erreur += (pt[i] - pt_estimation[i])**2\n",
    "    return torch.sqrt(erreur)\n",
    "\n",
    "\n",
    "\n",
    "def affichage_erreur(solutions,points2D,points3D,A) : \n",
    "   # Compute the error of estimation for each points after the P3P algorithm \n",
    "\n",
    "   # solutions : solution matrix returned by P3P (4*3*4)\n",
    "   # points 3D : 4 pts 3D used for P3P \n",
    "   # points 2D : 4 pts 2D used for P3P (image of the 3D points)\n",
    "   \n",
    "   P1 = points3D[0]\n",
    "   P2 = points3D[1]\n",
    "   P3 = points3D[2]\n",
    "   P4 = points3D[3]\n",
    "\n",
    "   erreurs = []\n",
    "   nb_sol = 0\n",
    "\n",
    "   for i in range(len(solutions)) : \n",
    "      R = solutions[i,:,1:] \n",
    "      C = solutions[i,:,:1]\n",
    "\n",
    "      if not torch.all(R==torch.zeros((3,3))) : \n",
    "        nb_sol += 1 \n",
    "        print(\"------------ Solution n° : \",nb_sol,\"----------------\")\n",
    "        print(\"R = \\n\",R,)\n",
    "        print(\"T = \\n\",C,)\n",
    "\n",
    "        p1_P3P = torch.reshape(projection3D2D(P1,C,R,A),(1,2))\n",
    "        p2_P3P = torch.reshape(projection3D2D(P2,C,R,A),(1,2))\n",
    "        p3_P3P = torch.reshape(projection3D2D(P3,C,R,A),(1,2))\n",
    "        p4_P3P = torch.reshape(projection3D2D(P4,C,R,A),(1,2))\n",
    "        pt_2D_P3P = torch.cat((p1_P3P,p2_P3P,p3_P3P,p4_P3P),dim=0)    # (4,2)\n",
    "\n",
    "        erreurs.append([0])\n",
    "        for j in range(len(points2D)):\n",
    "            erreur_pt = distance(points2D[j],pt_2D_P3P[j])\n",
    "            erreurs[i]+=erreur_pt\n",
    "        \n",
    "   indice_min = 0\n",
    "   min = erreurs[0]\n",
    "   for i in range(1,len(erreurs)) :\n",
    "    if erreurs[i]<min :\n",
    "      min = erreurs[i]\n",
    "      indice_min = i\n",
    "\n",
    "   R_opti = solutions[indice_min,:,1:] \n",
    "   C_opti = solutions[indice_min,:,:1]\n",
    "   print(\"\\n------------ Best solution : ----------------\")\n",
    "   print(\"Solution n° :\",indice_min+1,\"\\n\")\n",
    "   print(\"R estimé = \\n\", R_opti,\"\\n\")\n",
    "   print(\"T estimé = \\n\", C_opti, \"\\n\")"
   ]
  },
  {
   "cell_type": "code",
   "execution_count": 73,
   "metadata": {},
   "outputs": [
    {
     "name": "stdout",
     "output_type": "stream",
     "text": [
      "------------ Solution n° :  1 ----------------\n",
      "R = \n",
      " tensor([[ 0.7214, -0.5369, -0.4374],\n",
      "        [-0.6541, -0.7357, -0.1756],\n",
      "        [-0.2275,  0.4128, -0.8820]], dtype=torch.float64)\n",
      "T = \n",
      " tensor([[0.9832],\n",
      "        [0.7517],\n",
      "        [2.8388]], dtype=torch.float64)\n",
      "------------ Solution n° :  2 ----------------\n",
      "R = \n",
      " tensor([[ 0.7214, -0.5369, -0.4374],\n",
      "        [-0.6541, -0.7357, -0.1756],\n",
      "        [-0.2275,  0.4128, -0.8820]], dtype=torch.float64)\n",
      "T = \n",
      " tensor([[0.9832],\n",
      "        [0.7517],\n",
      "        [2.8388]], dtype=torch.float64)\n",
      "------------ Solution n° :  3 ----------------\n",
      "R = \n",
      " tensor([[ 1.0000e+00, -3.7068e-15, -1.7408e-15],\n",
      "        [-3.6966e-15, -1.0000e+00, -2.5909e-15],\n",
      "        [-1.7123e-15,  2.6610e-15, -1.0000e+00]], dtype=torch.float64)\n",
      "T = \n",
      " tensor([[6.8834e-15],\n",
      "        [1.4877e-14],\n",
      "        [6.0000e+00]], dtype=torch.float64)\n",
      "------------ Solution n° :  4 ----------------\n",
      "R = \n",
      " tensor([[ 0.8478, -0.5192,  0.1078],\n",
      "        [ 0.5279,  0.8073, -0.2637],\n",
      "        [ 0.0499,  0.2805,  0.9586]], dtype=torch.float64)\n",
      "T = \n",
      " tensor([[-1.2586],\n",
      "        [ 2.2671],\n",
      "        [-3.9910]], dtype=torch.float64)\n",
      "\n",
      "------------ Best solution : ----------------\n",
      "Solution n° : 3 \n",
      "\n",
      "R estimé = \n",
      " tensor([[ 1.0000e+00, -3.7068e-15, -1.7408e-15],\n",
      "        [-3.6966e-15, -1.0000e+00, -2.5909e-15],\n",
      "        [-1.7123e-15,  2.6610e-15, -1.0000e+00]], dtype=torch.float64) \n",
      "\n",
      "T estimé = \n",
      " tensor([[6.8834e-15],\n",
      "        [1.4877e-14],\n",
      "        [6.0000e+00]], dtype=torch.float64) \n",
      "\n"
     ]
    },
    {
     "name": "stderr",
     "output_type": "stream",
     "text": [
      "C:\\Users\\pmamalet\\AppData\\Local\\Temp\\ipykernel_18092\\875224362.py:4: UserWarning: To copy construct from a tensor, it is recommended to use sourceTensor.detach().clone() or sourceTensor.detach().clone().requires_grad_(True), rather than torch.tensor(sourceTensor).\n",
      "  erreur = erreur + torch.tensor((pt[i] - pt_estimation[i])**2, dtype=torch.float64)  # Ensure each term is a tensor\n"
     ]
    }
   ],
   "source": [
    "affichage_erreur(solutions, [p1, p2, p3, p4], [P1,P2,P3, P4], A)"
   ]
  }
 ],
 "metadata": {
  "kernelspec": {
   "display_name": "Python 3",
   "language": "python",
   "name": "python3"
  },
  "language_info": {
   "codemirror_mode": {
    "name": "ipython",
    "version": 3
   },
   "file_extension": ".py",
   "mimetype": "text/x-python",
   "name": "python",
   "nbconvert_exporter": "python",
   "pygments_lexer": "ipython3",
   "version": "3.11.9"
  }
 },
 "nbformat": 4,
 "nbformat_minor": 2
}
